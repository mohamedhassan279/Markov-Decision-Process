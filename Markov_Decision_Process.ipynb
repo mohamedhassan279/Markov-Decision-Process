{
  "nbformat": 4,
  "nbformat_minor": 0,
  "metadata": {
    "colab": {
      "provenance": [],
      "toc_visible": true,
      "include_colab_link": true
    },
    "kernelspec": {
      "name": "python3",
      "display_name": "Python 3"
    },
    "language_info": {
      "name": "python"
    }
  },
  "cells": [
    {
      "cell_type": "markdown",
      "metadata": {
        "id": "view-in-github",
        "colab_type": "text"
      },
      "source": [
        "<a href=\"https://colab.research.google.com/github/mohamedhassan279/Markov-Decision-Process/blob/main/Markov_Decision_Process.ipynb\" target=\"_parent\"><img src=\"https://colab.research.google.com/assets/colab-badge.svg\" alt=\"Open In Colab\"/></a>"
      ]
    },
    {
      "cell_type": "markdown",
      "source": [
        "### At the begining, We have represented Our state to be **(`the position of the agent (row,column) in the 3x3 MDP environment`)**."
      ],
      "metadata": {
        "id": "mACnQNs0mBvr"
      }
    },
    {
      "cell_type": "markdown",
      "source": [
        "# Project Set Up Modules , Classes and Functions."
      ],
      "metadata": {
        "id": "-Z8sj9dOU4Ks"
      }
    },
    {
      "cell_type": "markdown",
      "source": [
        "### First, we have imported some modules to be used in the assignment and these modules are:\n",
        "1- `Enum` module is imported for creating enumerations. We use this module to enumerate the possible directions for the agent.<br>\n",
        "2- `copy` module is imported for creating deep copies of objects. We use this module to copy the *\"old_policy\"* array into new array called *\"new_policy\"*.<br>\n",
        "3- `numpy` library is imported as `np` for numerical operations.<br>\n",
        "### Some global variables which are used in the assignment:\n",
        "1- The MDP environment is represented by a 3x3 grid (`world` array) where each element denotes the reward for being in that state. `-1` represents an intermediate state, and (`0` and `10`) represents End states.<br>\n",
        "Note: \"the state's reward can hold fractions so that the array datatype is `float64` \"<br>\n",
        "2- Parameters such as the discount factor (`gamma`), convergence threshold (`epsilon`), success probability (`success_prop`), and failure probability (`fail_prop`) are initialized."
      ],
      "metadata": {
        "id": "NcwUdYYS97_L"
      }
    },
    {
      "cell_type": "code",
      "source": [
        "from enum import Enum\n",
        "import copy\n",
        "import numpy as np\n",
        "\n",
        "world = np.array([[0, -1, 10], [-1, -1, -1], [-1, -1, -1]], dtype=np.float64)\n",
        "gamma = 0.99\n",
        "epsilon = 1e-9\n",
        "success_prop = 0.8\n",
        "fail_prop = 0.1"
      ],
      "metadata": {
        "id": "lHhPxD61HHvd"
      },
      "execution_count": null,
      "outputs": []
    },
    {
      "cell_type": "markdown",
      "source": [
        "### This code defines an enumeration Direction with members representing different movement directions in a grid or 2D space.\n",
        "**Possible Directions:**<br>\n",
        "Suppose my position is (row,column)\n",
        "1. (0,0) → i.e. (row + 0, column + 0) means it is the same as the original position.\n",
        "2. (-1,0) → i.e. (row - 1, column + 0) means it is the **up** position.\n",
        "3. (1,0) → i.e. (row + 1, column + 0) means it is the **down** position.\n",
        "4. (0,-1) → i.e. (row + 0, column - 1) means it is the **left** position.\n",
        "5. (0,1) → i.e. (row + 0, column + 1) means it is the **right** position."
      ],
      "metadata": {
        "id": "3vME4I-rG2Yr"
      }
    },
    {
      "cell_type": "code",
      "source": [
        "class Direction(Enum):\n",
        "    STAY = (0, 0)\n",
        "    UP = (-1, 0)\n",
        "    DOWN = (1, 0)\n",
        "    LEFT = (0, -1)\n",
        "    RIGHT = (0, 1)"
      ],
      "metadata": {
        "id": "zGQM7-MVVGHw"
      },
      "execution_count": null,
      "outputs": []
    },
    {
      "cell_type": "markdown",
      "source": [
        "### Utility Functions.<br>\n",
        "1) `isEnd` function checks if a given position corresponds to one of the specified end states, the end state here is (the position (0,0) which is \"r\" cell) and (position (0,2) which is the \"+10\" cell).\n",
        "<br>2) `isWall` function checks if a given position is outside the boundaries of a 3x3 grid (considered a wall),and this can be obtained by the following cases:\n",
        "1. if the `i` has negative value or not indicating that the **up** position is a wall.\n",
        "2. if the `i` has value>2 or not indicating that the **down** position is a wall.\n",
        "3. if the `j` has negative value or not indicating that the **left** position is a wall.\n",
        "4. if the `j` has value>2 or not indicating that the **right** position is a wall."
      ],
      "metadata": {
        "id": "sHN7c-t1DGk8"
      }
    },
    {
      "cell_type": "code",
      "source": [
        "def isEnd(i, j):\n",
        "    return (i == 0 and j == 2) or (i == 0 and j == 0)\n",
        "\n",
        "\n",
        "def isWall(i, j):\n",
        "    return i < 0 or i > 2 or j < 0 or j > 2"
      ],
      "metadata": {
        "id": "WByfMzfnf9Mu"
      },
      "execution_count": null,
      "outputs": []
    },
    {
      "cell_type": "markdown",
      "source": [
        "### Utility Functions.\n",
        "1- (`get_successor`) function, takes the current position (i, j) and a direction of movement as arguments.<br>It generates successor states based on the current position and movement direction, considering potential moves in the **specified direction**, the **perpendicular direction**, and the **opposite direction**. The function returns a (`list of successor states`), where each successor state is represented as a tuple (new_i, new_j, probability), indicating the **new position** and the **probability** of transitioning to that state.<br>\n",
        "2- (`reward`) function, takes the row index i and column index j as arguments, and retrieves (`the reward associated with the specified position`) in the Markov Decision Process (MDP) world."
      ],
      "metadata": {
        "id": "SReFjD0Lh2OZ"
      }
    },
    {
      "cell_type": "code",
      "source": [
        "def get_successor(i, j, direction):\n",
        "    successors = []\n",
        "    if not isWall(i + direction.value[0], j + direction.value[1]):\n",
        "        successors.append((i + direction.value[0], j + direction.value[1], success_prop))\n",
        "    else:\n",
        "        successors.append((i, j, success_prop))\n",
        "    if not isWall(i + direction.value[1], j + direction.value[0]):\n",
        "        successors.append((i + direction.value[1], j + direction.value[0], fail_prop))\n",
        "    else:\n",
        "        successors.append((i, j, fail_prop))\n",
        "    if not isWall(i - direction.value[1], j - direction.value[0]):\n",
        "        successors.append((i - direction.value[1], j - direction.value[0], fail_prop))\n",
        "    else:\n",
        "        successors.append((i, j, fail_prop))\n",
        "    return successors\n",
        "\n",
        "\n",
        "def reward(i, j):\n",
        "    return world[i][j]"
      ],
      "metadata": {
        "id": "eAN-y6u7HuSx"
      },
      "execution_count": null,
      "outputs": []
    },
    {
      "cell_type": "markdown",
      "source": [
        "# Main Functions"
      ],
      "metadata": {
        "id": "Sho5FlZboEWg"
      }
    },
    {
      "cell_type": "markdown",
      "source": [
        "### (`value_iteration`) function\n",
        "Performs the value iteration algorithm to find the optimal value function and policy for a given Markov Decision Process (MDP).\n",
        "\n",
        "    Returns:\n",
        "    1. V (numpy.ndarray): 2D array representing the optimal value function for each state in the MDP.\n",
        "    2. optimal_policy (numpy.ndarray): 2D array representing the optimal policy for each state in the MDP.\n",
        "---\n",
        "It works as following:\n",
        "1. Initialize the V array with zeros.\n",
        "2. Initialize the optimal_policy array with STAY actions.\n",
        "3. Enter an infinite loop until the maximum change in values (delta) is small enough (convergence to epsilon).\n",
        "4. Set delta as the maximum absolute change in the values of states between consecutive iterations.\n",
        "5. State Value Update:\n",
        "  * Nested loops iterate over all states in the MDP grid.\n",
        "  * Skip end states using the isEnd function.\n",
        "  * v: Store the current value of the state.\n",
        "  * Find the maximum value among possible actions using the Bellman equation.\n",
        "  * Update the state value (V[i][j]) and optimal policy based on the action with the maximum value.\n",
        "  * Update the change in value (delta).\n",
        "6. Convergence Check:\n",
        "  * If the maximum change in value (delta) is below the convergence threshold (epsilon), break out of the infinite loop.\n",
        "7. Returns:\n",
        "  * V (numpy.ndarray): 2D array representing the optimal value function for each state in the MDP.\n",
        "  * optimal_policy (numpy.ndarray): 2D array representing the optimal policy for each state in the MDP."
      ],
      "metadata": {
        "id": "SfMNr_EWoPUI"
      }
    },
    {
      "cell_type": "code",
      "source": [
        "def value_iteration():\n",
        "    V = np.zeros_like(world, dtype=np.float64)\n",
        "    optimal_policy = np.array([[Direction.STAY for _ in range(3)] for _ in range(3)])\n",
        "    iterations = 0\n",
        "    while True:\n",
        "        iterations += 1\n",
        "        delta = 0  # delta = max(|v - v'|)\n",
        "        for i in range(3):\n",
        "            for j in range(3):\n",
        "                if isEnd(i, j):\n",
        "                    V[i][j] = reward(i, j)\n",
        "                    continue\n",
        "                v = V[i][j]\n",
        "                max_value = float('-inf')\n",
        "                for direction in Direction:\n",
        "                    successors = get_successor(i, j, direction)\n",
        "                    value = 0\n",
        "                    for x, y, prop in successors:\n",
        "                        value += prop * (reward(i, j) + gamma * V[x][y])\n",
        "\n",
        "                    if value > max_value:\n",
        "                        max_value = value\n",
        "                        optimal_policy[i][j] = direction\n",
        "                V[i][j] = max_value\n",
        "                delta = max(delta, float(abs(v - V[i][j])))\n",
        "        if delta < epsilon:\n",
        "            break\n",
        "    print(\"Number of iterations: \" + str(iterations))\n",
        "    return V, optimal_policy"
      ],
      "metadata": {
        "id": "qs9wHjw0XMT-"
      },
      "execution_count": null,
      "outputs": []
    },
    {
      "cell_type": "markdown",
      "source": [
        "### (`print_policy`) function.<br>\n",
        "Prints a visual representation of the policy.\n",
        "\n",
        "    Parameters:\n",
        "    - policy (numpy.ndarray): 2D array representing the policy with Direction enums.\n",
        "\n",
        "    Prints:\n",
        "    - Visual representation of the policy using arrows (↑, ↓, ←, →) or 'E' for 'STAY'.\n",
        "---\n",
        "It works as following:\n",
        "* Printing the Policy:\n",
        "  1. Nested loops iterate over rows and columns of the `policy` array.\n",
        "  2. Check the value of each element in the array and print the corresponding arrow ('↑', '↓', '←', '→') or 'E' for 'STAY' direction.\n",
        "  3. The printed arrows represent the recommended actions in the policy for each state."
      ],
      "metadata": {
        "id": "FkE2b_vxxM_6"
      }
    },
    {
      "cell_type": "code",
      "source": [
        "def print_policy(policy):\n",
        "    for i in range(3):\n",
        "        for j in range(3):\n",
        "            if policy[i][j] == Direction.UP:\n",
        "                print('↑', end=' ')\n",
        "            elif policy[i][j] == Direction.DOWN:\n",
        "                print('↓', end=' ')\n",
        "            elif policy[i][j] == Direction.LEFT:\n",
        "                print('←', end=' ')\n",
        "            elif policy[i][j] == Direction.RIGHT:\n",
        "                print('→', end=' ')\n",
        "            else:\n",
        "                print('E', end=' ')\n",
        "        print()"
      ],
      "metadata": {
        "id": "rdmDuW8Ug8Ts"
      },
      "execution_count": null,
      "outputs": []
    },
    {
      "cell_type": "markdown",
      "source": [
        "### 1. Implement value iteration for this world for each value of r below:\n",
        "  * r = 100\n",
        "  * r = 3\n",
        "  * r = 0\n",
        "  * r = -3\n",
        "\n",
        "### 2. Show the policy obtained in each case.\n",
        "\n",
        "\n"
      ],
      "metadata": {
        "id": "IbxPS8z-zdki"
      }
    },
    {
      "cell_type": "code",
      "source": [
        "for r in [100, 3, 0, -3]:\n",
        "    world[0][0] = r\n",
        "    optimal_values, optimal_policy = value_iteration()\n",
        "    print('r = ' + str(r))\n",
        "    print(\"optimal values:-\")\n",
        "    print(optimal_values)\n",
        "    print()\n",
        "    print(\"optimal policy:-\")\n",
        "    print_policy(optimal_policy)\n",
        "    print('----------------------------------------------------------------------------------')"
      ],
      "metadata": {
        "id": "t0k7gA-mhVaG",
        "colab": {
          "base_uri": "https://localhost:8080/"
        },
        "outputId": "c672f8c6-970d-41e9-b117-c82eaac9e66a"
      },
      "execution_count": null,
      "outputs": [
        {
          "output_type": "stream",
          "name": "stdout",
          "text": [
            "Number of iterations: 25\n",
            "r = 100\n",
            "optimal values:-\n",
            "[[100.          97.20352595  10.        ]\n",
            " [ 97.20352595  94.75128165  88.204261  ]\n",
            " [ 94.48183416  92.35292957  89.76219984]]\n",
            "\n",
            "optimal policy:-\n",
            "E ← E \n",
            "↑ ← ↓ \n",
            "↑ ← ← \n",
            "----------------------------------------------------------------------------------\n",
            "Number of iterations: 23\n",
            "r = 3\n",
            "optimal values:-\n",
            "[[ 3.          8.46193927 10.        ]\n",
            " [ 5.38356505  7.11320491  8.46193927]\n",
            " [ 4.57481583  5.79411126  6.96500879]]\n",
            "\n",
            "optimal policy:-\n",
            "E → E \n",
            "→ → ↑ \n",
            "→ → ↑ \n",
            "----------------------------------------------------------------------------------\n",
            "Number of iterations: 23\n",
            "r = 0\n",
            "optimal values:-\n",
            "[[ 0.          8.46193927 10.        ]\n",
            " [ 5.08329878  7.11320491  8.46193927]\n",
            " [ 4.5418232   5.79411126  6.96500879]]\n",
            "\n",
            "optimal policy:-\n",
            "E → E \n",
            "→ → ↑ \n",
            "→ → ↑ \n",
            "----------------------------------------------------------------------------------\n",
            "Number of iterations: 23\n",
            "r = -3\n",
            "optimal values:-\n",
            "[[-3.          8.46193927 10.        ]\n",
            " [ 4.78303251  7.11320491  8.46193927]\n",
            " [ 4.50883056  5.79411126  6.96500879]]\n",
            "\n",
            "optimal policy:-\n",
            "E → E \n",
            "→ → ↑ \n",
            "→ → ↑ \n",
            "----------------------------------------------------------------------------------\n"
          ]
        }
      ]
    },
    {
      "cell_type": "markdown",
      "source": [
        "### Explain intuitively why the value of r leads to each policy.\n",
        "    For r = 100:\n",
        "        Intuition:\n",
        "            A very high positive reward (r = 100) creates a strong incentive for the agent to reach the goal state \"r\" -rather than the another goal in position (0,2)- as quickly as possible.\n",
        "            The agent prefers actions that lead to the goal \"r\", even if it incurs some negative rewards along the way.\n",
        "            the cell under positive 10 suggests moving down instead of taking the shortcut to reach r by moving left as moving left may lead to move up with probability 0.1 and end the game with reaching the r = 100.\n",
        "        Policy Explanation:\n",
        "            The optimal policy involves moving to r as fast and as safe as possible by the directions resulted above.\n",
        "\n",
        "    For r = 3:\n",
        "        Intuition:\n",
        "            A moderate positive reward (r = 3) but less than the goal at position (0,2) which reward is \"+10\" this will make the agent still to be encouraged reaching the goal at position (0,2) more than reaching the goal \"r\" but with less urgency compared to the high positive reward case which is \"100\" in the previous case.\n",
        "            The agent aims to reach the goal while considering a more balanced trade-off between positive and negative rewards.\n",
        "        Policy Explanation:\n",
        "            The optimal policy involves a combination of moving right ('→') and upwards ('↑') to reach the goal while avoiding negative rewards to reach position (0,2).\n",
        "\n",
        "    For r = 0:\n",
        "        Intuition:\n",
        "            A zero reward (r = 0) implies a neutral state with no inherent motivation to reach the goal at \"r\" quickly but reaching the goal at position (0,2) is much more preferable.\n",
        "            The agent aims to reach the goal at position (0,2) by finding a path to this goal while minimizing negative rewards.\n",
        "        Policy Explanation:\n",
        "            The optimal policy is to get to the goal with reward 10 because it's more optimal than having a zero reward at (0,0), so we find that each cell aims to the cell at (0,2)\n",
        "\n",
        "    For r = -3:\n",
        "        Intuition:\n",
        "            A negative reward (r = -3) discourages reaching the goal at this position but much much more encouraged to reach the goal at position (0,2) with reward \"+10\", and the agent seeks paths with fewer negative rewards to reach position (0,2).\n",
        "        Policy Explanation:\n",
        "            The optimal policy involves moving right ('→') and upwards ('↑') to explore the environment while avoiding the goal with \"-3\" reward but finding path to reach position (0,2) with value \"+10\" minimizing the cumulative negative reward.\n",
        "\n",
        "Overall Intuition:\n",
        "\n",
        "    The value of r serves as a motivational factor for the agent, influencing its trade-off between reaching which goal (goal with reward r or with reward +10) and avoiding negative rewards.\n",
        "    Higher positive rewards lead to more aggressive policies, prioritizing goal attainment.\n",
        "    Zero or negative rewards lead to more cautious policies, emphasizing the avoidance of negative rewards and exploring alternative paths to the goal."
      ],
      "metadata": {
        "id": "jMG4qDDIN7JH"
      }
    },
    {
      "cell_type": "markdown",
      "source": [
        "# Bounus:\n",
        "Find the optimal policy for each of the previous cases of `r` using Policy Iteration algorithm. You may start the algorithm with a randomly generated policy."
      ],
      "metadata": {
        "id": "NK2fvd8K_rfU"
      }
    },
    {
      "cell_type": "markdown",
      "source": [
        "### `generate_randomized_policy` Function.\n",
        "    Return the final randomized_policy matrix, representing a randomized policy for non-fixed positions in the MDP environment.\n",
        "---\n",
        "It works as following:\n",
        "1. Policy Initialization:\n",
        "    * Initialize a 3x3 matrix called `randomized_policy` to represent a randomized policy. All directions are initially set to (`Direction.STAY`).\n",
        "\n",
        "2. Direction Definition:\n",
        "    * Create a list directions containing all possible directions except (`Direction.STAY`).\n",
        "\n",
        "3. Randomization Loop:\n",
        "    * Iterate through each position in the `randomized_policy` matrix.\n",
        "    * For each position, if it is not one of the fixed positions (0, 0) or (0, 2):\n",
        "      * Exclude the (`Direction.STAY`) option.\n",
        "      * Randomly choose a direction from the list of possible directions (excluding STAY).\n",
        "      * Assign the randomly chosen direction to the current position in the (`randomized_policy`) matrix.\n",
        "\n",
        "4. Return Randomized Policy:\n",
        "    * Return the final (`randomized_policy`) matrix, representing a randomized policy for non-fixed positions in the MDP environment."
      ],
      "metadata": {
        "id": "x3okaNzs1A-O"
      }
    },
    {
      "cell_type": "code",
      "source": [
        "def generate_randomized_policy():\n",
        "    randomized_policy = np.array([[Direction.STAY for _ in range(3)] for _ in range(3)])\n",
        "    directions = [d for d in Direction if d != Direction.STAY]\n",
        "    # Iterate through the array and randomize directions\n",
        "    for i in range(randomized_policy.shape[0]):\n",
        "        for j in range(randomized_policy.shape[1]):\n",
        "            if (i, j) not in [(0, 0), (0, 2)]:\n",
        "                # Exclude STAY and randomize direction\n",
        "                randomized_policy[i, j] = np.random.choice(directions)\n",
        "    return randomized_policy"
      ],
      "metadata": {
        "id": "WzJVUWcFg2iN"
      },
      "execution_count": null,
      "outputs": []
    },
    {
      "cell_type": "markdown",
      "source": [
        "### (`policy_evaluation`) Function\n",
        "Evaluates the given policy by iteratively updating state values.\n",
        "\n",
        "    Parameters:\n",
        "    - policy (numpy.ndarray): 2D array representing the policy with Direction enums.\n",
        "\n",
        "    Returns:\n",
        "    - numpy.ndarray: 2D array containing the state values after policy evaluation.\n",
        "---\n",
        "It works as following:\n",
        "  1. Initialization:\n",
        "      * V: Initialize a 3x3 matrix V representing state values to zeros.\n",
        "\n",
        "  2. Policy Evaluation Loop:\n",
        "        Enter a loop for policy evaluation until convergence.\n",
        "        delta: Initialize the change in value to zero.\n",
        "\n",
        "  3. State Value Update Loop:\n",
        "        Nested loops iterate over all states in the MDP grid.\n",
        "        Skip end states using isEnd function.\n",
        "        v: Store the current value of the state.\n",
        "        action: Get the current action according to the input policy.\n",
        "\n",
        "  4. Calculate Successor Values:\n",
        "        Get successor states based on the current action using the get_successor function.\n",
        "        Calculate the value for the current state using the Bellman equation.\n",
        "\n",
        "  5. Update State Values:\n",
        "        Update the value of the current state (V[i][j]) based on the calculated value.\n",
        "\n",
        "  6. Convergence Check:\n",
        "        Update the change in value (delta) based on the maximum change observed during the iteration.\n",
        "        Check for convergence, i.e., whether the maximum change in value is below the convergence threshold (epsilon).\n",
        "        If convergence is achieved, exit the loop.\n",
        "  7. Returns:\n",
        "    * 2D array containing the state values after policy evaluation."
      ],
      "metadata": {
        "id": "MH9Flfnr5R1d"
      }
    },
    {
      "cell_type": "code",
      "source": [
        "def policy_evaluation(policy):\n",
        "    V = np.zeros_like(world, dtype=np.float64)\n",
        "    while True:\n",
        "        delta = 0  # delta = max(|v - v'|)\n",
        "        for i in range(3):\n",
        "            for j in range(3):\n",
        "                if isEnd(i, j):\n",
        "                    V[i][j] = reward(i, j)\n",
        "                    continue\n",
        "                v = V[i][j]\n",
        "                successors = get_successor(i, j, policy[i][j])\n",
        "                value = 0\n",
        "                for x, y, prop in successors:\n",
        "                    value += prop * (reward(i, j) + gamma * V[x][y])\n",
        "                V[i][j] = value\n",
        "                delta = max(delta, float(abs(v - V[i][j])))\n",
        "        if delta < epsilon:\n",
        "            break\n",
        "    return V"
      ],
      "metadata": {
        "id": "OKCBvRGkgRRE"
      },
      "execution_count": null,
      "outputs": []
    },
    {
      "cell_type": "markdown",
      "source": [
        "### (`policy_improvement`) Function:\n",
        "Improves the given policy based on the current state values.\n",
        "\n",
        "    Parameters:\n",
        "    - V (numpy.ndarray): 2D array representing state values.\n",
        "    - policy (numpy.ndarray): 2D array representing the current policy with Direction enums.\n",
        "\n",
        "    Modifies:\n",
        "    - policy (numpy.ndarray): The input policy is modified based on the state values.\n",
        "---\n",
        "It works as following:\n",
        "1. Iterate Over States:\n",
        "    * Nested loops iterate over all states in the MDP grid.\n",
        "\n",
        "2. Skip End States:\n",
        "    * If the current state is an end state, skip it using the (`isEnd`) function.\n",
        "\n",
        "3. Policy Improvement Loop:\n",
        "    * For each non-end state, initialize max_value to negative infinity.\n",
        "\n",
        "4. Iterate Over Actions (`Directions`):\n",
        "    * Nested loop iterates over all possible actions (`directions`) using the Direction enumeration.\n",
        "\n",
        "5. Calculate Expected Value:\n",
        "    * For each action, get the successor states based on the current action using (`get_successor`).\n",
        "    * Calculate the expected value for the current action using the Bellman equation.\n",
        "\n",
        "6. Update Policy:\n",
        "    * If the calculated value is greater than the current maximum value:\n",
        "      * Update the maximum value.\n",
        "      * Update the policy for the current state to the current action (`direction`).\n",
        "\n",
        "7. Modified Policy:\n",
        "    * After iterating over all actions, the policy for the current state is updated to the action that provides the maximum expected value."
      ],
      "metadata": {
        "id": "JzNrQ6t68OTX"
      }
    },
    {
      "cell_type": "code",
      "source": [
        "def policy_improvement(V, policy):\n",
        "    for i in range(3):\n",
        "        for j in range(3):\n",
        "            if isEnd(i, j):\n",
        "                continue\n",
        "            max_value = float('-inf')\n",
        "            for direction in Direction:\n",
        "                successors = get_successor(i, j, direction)\n",
        "                value = 0\n",
        "                for x, y, prop in successors:\n",
        "                    value += prop * (reward(i, j) + gamma * V[x][y])\n",
        "\n",
        "                if value > max_value:\n",
        "                    max_value = value\n",
        "                    policy[i][j] = direction"
      ],
      "metadata": {
        "id": "qtm7sezwgUch"
      },
      "execution_count": null,
      "outputs": []
    },
    {
      "cell_type": "markdown",
      "source": [
        "### (`policy_iteration`) Function:\n",
        "Executes the policy iteration algorithm to find an optimal policy.\n",
        "\n",
        "    Returns:\n",
        "    - V (numpy.ndarray): 2D array representing the final state values.\n",
        "    - policy (numpy.ndarray): 2D array representing the optimal policy.\n",
        "---\n",
        "It works as following:\n",
        "1. Policy Initialization:\n",
        "    * Initialize (`old_policy`) with a randomized policy using the generate_randomized_policy function.\n",
        "    * Initialize an iteration counter i to 1.\n",
        "\n",
        "2. Iteration Loop:\n",
        "    * Enter a loop for policy iteration until convergence.\n",
        "\n",
        "3. Policy Evaluation:\n",
        "    * Evaluate the state values (V) based on the current policy using the (`policy_evaluation`) function.\n",
        "\n",
        "4. Policy Improvement:\n",
        "    * Create a deep copy of the current policy to (`new_policy`).\n",
        "    * Print the current iteration number and the policy for the iteration using (`print_policy`).\n",
        "    * Improve the policy based on the current state values using the (`policy_improvement`) function.\n",
        "\n",
        "5. Convergence Check:\n",
        "    * Check for convergence by comparing the old and new policies using np.array_equal.\n",
        "    * If the policies are equal, break out of the loop.\n",
        "\n",
        "6. Update Old Policy:\n",
        "    * If not converged, update the (`old_policy`) with the new_policy for the next iteration.\n",
        "\n",
        "7. Return Result:\n",
        "    * Return the final state values (`V`) and the optimal policy (`old_policy`)."
      ],
      "metadata": {
        "id": "ZYeC6K1m-EOA"
      }
    },
    {
      "cell_type": "code",
      "execution_count": null,
      "metadata": {
        "id": "3KBSFFxdkgyZ"
      },
      "outputs": [],
      "source": [
        "def policy_iteration():\n",
        "    old_policy = generate_randomized_policy()\n",
        "    i = 1\n",
        "    while True:\n",
        "        V = policy_evaluation(old_policy)\n",
        "        new_policy = copy.deepcopy(old_policy)\n",
        "        print(\"iteration \", i)\n",
        "        i += 1\n",
        "        print_policy(new_policy)\n",
        "        policy_improvement(V, new_policy)\n",
        "        if np.array_equal(old_policy, new_policy):\n",
        "            break\n",
        "        old_policy = copy.deepcopy(new_policy)\n",
        "    return V, old_policy"
      ]
    },
    {
      "cell_type": "markdown",
      "source": [
        "### Find the optimal policy for each of the cases of r {100,3,0,-3} using Policy Iteration algorithm.\n",
        "    This code snippet appears to perform policy iteration for different reward values in a Markov Decision Process (MDP) environment and prints the resulting optimal values and policies."
      ],
      "metadata": {
        "id": "YJWgmwCKCD2R"
      }
    },
    {
      "cell_type": "code",
      "source": [
        "for r in [100, 3, 0, -3]:\n",
        "    world[0][0] = r\n",
        "    optimal_values, optimal_policy = policy_iteration()\n",
        "    print('\\nr = ' + str(r))\n",
        "    print(\"optimal values:-\")\n",
        "    print(optimal_values)\n",
        "    print()\n",
        "    print(\"optimal policy:-\")\n",
        "    print_policy(optimal_policy)\n",
        "    print('----------------------------------------------------------------------------------')"
      ],
      "metadata": {
        "colab": {
          "base_uri": "https://localhost:8080/"
        },
        "id": "4Upv929CXZYr",
        "outputId": "ab415454-4b50-45db-e646-436db3d3684b"
      },
      "execution_count": null,
      "outputs": [
        {
          "output_type": "stream",
          "name": "stdout",
          "text": [
            "iteration  1\n",
            "E ↑ E \n",
            "↓ → ← \n",
            "↓ ↓ ↓ \n",
            "iteration  2\n",
            "E ← E \n",
            "↑ ↑ ↑ \n",
            "↑ ↑ ↑ \n",
            "iteration  3\n",
            "E ← E \n",
            "↑ ← ← \n",
            "↑ ← ← \n",
            "iteration  4\n",
            "E ← E \n",
            "↑ ← ↓ \n",
            "↑ ← ← \n",
            "\n",
            "r = 100\n",
            "optimal values:-\n",
            "[[100.          97.20352595  10.        ]\n",
            " [ 97.20352595  94.75128165  88.204261  ]\n",
            " [ 94.48183416  92.35292957  89.76219984]]\n",
            "\n",
            "optimal policy:-\n",
            "E ← E \n",
            "↑ ← ↓ \n",
            "↑ ← ← \n",
            "----------------------------------------------------------------------------------\n",
            "iteration  1\n",
            "E ↓ E \n",
            "← ↑ ↓ \n",
            "→ ↓ → \n",
            "iteration  2\n",
            "E → E \n",
            "↑ ↑ ↑ \n",
            "↑ ↑ ↑ \n",
            "iteration  3\n",
            "E → E \n",
            "→ → ↑ \n",
            "→ → ↑ \n",
            "\n",
            "r = 3\n",
            "optimal values:-\n",
            "[[ 3.          8.46193927 10.        ]\n",
            " [ 5.38356505  7.11320491  8.46193927]\n",
            " [ 4.57481583  5.79411126  6.96500879]]\n",
            "\n",
            "optimal policy:-\n",
            "E → E \n",
            "→ → ↑ \n",
            "→ → ↑ \n",
            "----------------------------------------------------------------------------------\n",
            "iteration  1\n",
            "E ↑ E \n",
            "↑ → ↑ \n",
            "↑ ↑ ↓ \n",
            "iteration  2\n",
            "E → E \n",
            "→ → ↑ \n",
            "→ ↑ ↑ \n",
            "iteration  3\n",
            "E → E \n",
            "→ → ↑ \n",
            "→ → ↑ \n",
            "\n",
            "r = 0\n",
            "optimal values:-\n",
            "[[ 0.          8.46193927 10.        ]\n",
            " [ 5.08329878  7.11320491  8.46193927]\n",
            " [ 4.5418232   5.79411126  6.96500879]]\n",
            "\n",
            "optimal policy:-\n",
            "E → E \n",
            "→ → ↑ \n",
            "→ → ↑ \n",
            "----------------------------------------------------------------------------------\n",
            "iteration  1\n",
            "E ↓ E \n",
            "↓ ← ← \n",
            "↑ ↑ ↓ \n",
            "iteration  2\n",
            "E → E \n",
            "↑ ↑ ↑ \n",
            "→ ↑ ↑ \n",
            "iteration  3\n",
            "E → E \n",
            "→ → ↑ \n",
            "→ → ↑ \n",
            "\n",
            "r = -3\n",
            "optimal values:-\n",
            "[[-3.          8.46193927 10.        ]\n",
            " [ 4.78303251  7.11320491  8.46193927]\n",
            " [ 4.50883056  5.79411126  6.96500879]]\n",
            "\n",
            "optimal policy:-\n",
            "E → E \n",
            "→ → ↑ \n",
            "→ → ↑ \n",
            "----------------------------------------------------------------------------------\n"
          ]
        }
      ]
    }
  ]
}